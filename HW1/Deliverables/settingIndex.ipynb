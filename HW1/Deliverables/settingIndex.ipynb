{
 "cells": [
  {
   "cell_type": "code",
   "execution_count": 1,
   "id": "26fd6748",
   "metadata": {},
   "outputs": [],
   "source": [
    "#Importing Libraries\n",
    "import os\n",
    "from nltk.tokenize import word_tokenize\n",
    "from nltk.stem import PorterStemmer \n",
    "import re\n",
    "import string\n",
    "from tqdm import tqdm"
   ]
  },
  {
   "cell_type": "code",
   "execution_count": 2,
   "id": "2a1aaad7",
   "metadata": {},
   "outputs": [],
   "source": [
    "#Function to parse the documents\n",
    "import chardet\n",
    "\n",
    "def get_encoding_type(file_path):\n",
    "    with open(file_path, 'rb') as file:\n",
    "        raw_data = file.read()\n",
    "    return chardet.detect(raw_data)['encoding']\n",
    "\n",
    "\n",
    "def parse_file(file_path):\n",
    "    extracted_dict = {}\n",
    "    \n",
    "    try:\n",
    "        with open(file_path, 'r', encoding='ascii', errors='replace') as file:\n",
    "            file_content = file.read()\n",
    "\n",
    "        \n",
    "        docs = re.findall(r'<DOC>(.*?)</DOC>', file_content, re.DOTALL)\n",
    "\n",
    "       \n",
    "        for doc in docs:\n",
    "           \n",
    "            docno = re.search(r'<DOCNO>(.*?)</DOCNO>', doc, re.DOTALL)\n",
    "            if docno:\n",
    "                docno = docno.group(1).strip()\n",
    "                texts = re.findall(r'<TEXT>(.*?)</TEXT>', doc, re.DOTALL)\n",
    "                texts = [text.strip() for text in texts]\n",
    "                extracted_dict[docno] = texts\n",
    "    except UnicodeDecodeError as e:\n",
    "        print(f\"Error reading {file_path}: {e}\")\n",
    "        return None          \n",
    "\n",
    "    return extracted_dict"
   ]
  },
  {
   "cell_type": "code",
   "execution_count": 4,
   "id": "eb8d9647",
   "metadata": {},
   "outputs": [],
   "source": [
    "folder = \"./ap89_collection\"\n",
    "\n",
    "text_map = {}\n",
    "\n",
    "for filename in os.listdir(folder):\n",
    "    if filename != 'readme':\n",
    "        file_path = os.path.join(folder, filename)\n",
    "        text_map.update(parse_file(file_path))\n",
    "    \n",
    "        "
   ]
  },
  {
   "cell_type": "code",
   "execution_count": 5,
   "id": "cc09269d",
   "metadata": {},
   "outputs": [
    {
     "name": "stdout",
     "output_type": "stream",
     "text": [
      "AP891220-0001\n",
      "[\"Instead of collapsing when the United\\nStates threw its military might against Gen. Manuel Antonio\\nNoriega, his Defense Forces stubbornly resisted.\\n   The elusive general the Bush administration had hoped to put\\nbefore a federal judge in Florida on drug charges remains at large\\nand in hiding despite an attack Wednesday by thousands of American\\ntroops.\\n   Many in Panama had thought the Defense Forces would simply\\n``throw down their guns as soon as an American helicopter appeared\\nover the barracks,'' as a Noriega opponent once put it.\\n   In interviews prior to the attack, U.S. military leaders had\\nclaimed Defense Forces troops would refuse to shed their blood for\\nNoriega. Part of their evidence stemmed from the fact that disloyal\\nofficers mounted two coups against him.\\n   But the general, who sometimes seemed to escape by magic,\\napparently retained enough loyalty for his men to put up a fight\\nwhen the U.S. stroke came. From Defense Forces posts all over\\nPanama came reports of stubborn fighting that lasted for hours.\\n   With their garrisons destroyed or under siege, many Panamanian\\nofficers left and joined small paramilitary groups in urban\\nguerrilla warfare.\\n   While U.S. forces had heavy artillery and air power to use\\nagainst installations and sent their armored personnel carriers\\nrolling over fences and cars, Panamanian armed groups fought a\\ndelaying action.\\n   ``We are acting as urban guerrillas, although we have lost some\\npositions, some garrisons,'' said Enrique Thompson, the second in\\ncommand in the paramilitary groups, known as Dignity Battalions.\\n   Thompson spoke with an Associated Press reporter as the five men\\nwith him took up positions in the bushes with Soviet-made AK-47\\nrifles near the Tinajitas garrison, taken over Wednesday morning by\\nthe Americans.\\n   ``The people are joining the struggle for national\\nsovereignty,'' he said.\\n   The Noriega forces marshalled resistance with appeals over the\\nNational Radio, broadcasting in a national network.\\n   Announcers called on Panamanians to organize neighborhood armed\\nresistance and guerrilla war. The station played Panamanian\\npatriotic songs that taunt Americans. Officers even used it to\\nbroadcast instructions to troops and messages to each other, often\\nin code.\\n   U.S. forces finally did slowly close down the radio stations\\nthat made up the chain, but it was a slow process.\\n   ``Incredible,'' said a sweaty U.S. Army sergeant as he listened\\nto the exhortations. ``That was the first thing we should have\\nsilenced.''\\n   Unlike the armed forces in other parts of Latin America, the\\nDefense Forces officer corps is made up largely of men from poor\\nbackgrounds and became the vehicle dictator Omar Torrijos used in\\nthe late 1960s to topple the ruling oligarchy.\\n   Noriega, a Torrijos disciple, once observed that the upper-class\\nhad only itself to blame when they complained about the Defense\\nForces' dominance, because they preferred to make money.\\n   He openly mocked the upper-class and his supporters frequently\\nrefer to the opposition election victory on May 7 as an effort by\\nthe oligarchy to return to power.\\n   Noriega promoted officers with poor backgrounds, often from\\ndiscriminated-against black and Chinese minorities, and worked hard\\nto retain their loyalty with lucrative slices of the corruption pie\\nin Panama.\\n   But when that loyalty slipped, it did in coup attempts in 1988\\nand 1989, he reacted brutally, and reports that he personally beat\\nor shot coup instigators circulated.\\n   Accused of domestic repression by the U.S. government, he\\nwhipped up nationalistic feelings showing himself as a Panamanian\\nwrongly accused by the large country that wanted to renege on the\\nthe Panama Canal treaties.\\n   The invasion was a slap in the face to Panamanians who have\\nconsidered themselves friends and allies of the Americans since the\\ntwo countries joined hands in the construction of the Panama Canal\\nat the beginning of the century.\\n   As the armored personnel carriers rolled out of Fort Clayton\\nafter midnight Wednesday past the Panamanian town of Diablo\\nHeights, some men and women watching them cursed them or cried.\\n   ``Whey are they doing this?'' a housewife asked a reporter.\\n``Are they going to kill our people just for one man?''\\n   ``The Americans have no control of the situation,'' said Dr.\\nLeonardo Diaz of the Santo Tomas hospital. ``Their strength is in\\ntheir personnel carriers and their Cobras (helicopters), but the\\npeople are angry.''\"]\n",
      "AP891220-0002\n",
      "[\"The Rolling Stones capped the\\nnext-to-last show of their 32-city North American tour with a guest\\nappearance by British blues guitarist Eric Clapton for the band's\\npay-per-view concert Tuesday night.\\n   The capacity crowd of 16,000 at Convention Hall roared when the\\nbearded Clapton stepped to center stage for two bluesy solos during\\n``Little Red Rooster.''\\n   The Stones' lead singer, Mick Jagger, in turquoise shirt, black\\njeans and silver-studded belt, then joined the Clapton on harmonica.\\n   Clapton, wearing a black leather jacket and white T-shirt, was\\nmaking his first appearance with the Stones on the current tour.\\n   The pay-per-view concert Tuesday night was to be seen in 13.5\\nmillion homes and heard on about 150 radio stations, promoters said.\\n   The concert, the second of three scheduled at 16,000-seat\\nConvention Hall, also featured appearances by vocalist Axl Rose and\\nguitarist Izzy Stradlin of Guns 'n' Roses and by 71-year-old\\nSouthern blues guitar legend John Lee Hooker.\\n   Rose and Stradlin, introduced by Jagger as having come ``all the\\nway East to get their tattooes touched up,'' sang, ``Salt of the\\nEarth'' with the original bad boys of rock 'n' roll.\\n   Jagger seemed more animated Tuesday night, playing up to the\\ntelevision cameras, leading middle-aged fans through the new lyrics\\nof ``Terrifying'' and swaying to ``Ruby Tuesday'' with fans born\\nafter it was first recorded in 1967.\\n   Tickets for each of the Stones' concerts Sunday, Tuesday and\\nWednesday in Atlantic City cost $38.50, $150 and $250.\\n   The Stones, who have been performing since 1962, opened the tour\\nAug. 31 at Veterans Stadium in Philadelphia.\\n   The group took off Monday to celebrate guitarist Keith Richards'\\n46th birthday.\\n   Scott Kurnit, the president of Set Pay Per View, the show's\\ndistributor to cable companies, said the suggested retail price for\\nthe concert was $24.95, but added that some cable companies were\\ncharging $19.95.\\n   Jagger said the live televised performance would inject just the\\nboost needed for the Stones at the end of their first tour since\\n1981.\\n   ``You get wound up for live TV ... especially at the end of a\\ntour,'' said Jagger, 46.\"]\n",
      "AP891220-0003\n",
      "['This first installment of a three-part Christmas\\nseries about the relatives of Jesus deals with his ancestral roots.', \"Everyone is a special sum of ancestry _ to enhance or diminish\\nthrough a lifetime. That was so for the child of Christmas, the\\nproduct of a heritage.\\n   Some biblical passages cloak his origins in utter mystery,\\nbefore time itself. But others accord him a thoroughly natural\\nfamily tree.\\n   ``He was in the beginning with God,'' says one account, a\\n``Word'' or ``Logos,'' a vitalizing wisdom inherent in the Creator\\nbefore the world began. Yet other passages say he was ``made like\\nhis brethren in every respect.''\\n   ``Son of man,'' he usually called himself, but also ``Son of\\nGod.''\\n   He combined ``universality with particularity,'' the ``divine\\nand human model,'' writes church historian Jaroslav Pelican in his\\nbook ``Jesus Through the Centuries.'' It says a key question put to\\nhim was, ``Where do you come from?''\\n   Although seldom noted, he had a long string of forebears as well\\nas contemporary relatives who gave him both problems and help. His\\nlineage ran deep into Jewish history.\\n   As with most people if their descent is traced back far enough,\\nhe had a checkered ancestry, good and bad, the lowly and great,\\nkings, betrayers, heroes, adulterers, warriors and prostitutes.\\n   It was an odd assortment, like humanity itself, alien Gentiles\\nand fellow Jews, the weak and strong, upright and corrupt. The fact\\nthat he shared these common roots is considered theologically basic\\nto his purpose: becoming identified with all humankind.\\n   They ``were all members of Jesus' family, his great-great-great\\ngrandaddies and grandmamas in the faith,'' wrote church scholar\\nWilliam H. Willimon. ``For all their weaknesses and shortcomings,\\nthis motley but richly human crew were indeed his people.''\\n   Two genealogies of Jesus are recorded, one in the first chapter\\nof the Book of Matthew, the other in the third chapter of the Book\\nof Luke. They vary in some detail and some interpreters debatably\\nassume Luke gives the line of his mother, Mary, and that Matthew\\ngives that of Joseph, legally the father.\\n   ``It is possible that the original genealogy did interpret\\nJoseph as the father of Jesus, that is, that it had been formulated\\nbefore the understanding of Jesus as the divinely generated son of\\nGod,'' writes New Testament scholar Henrikus Boers in his book\\n``Who Was Jesus?''\\n   Some progenitors are on both lists, including olden patriarchs\\nof Judaism and Israel's great King David, along with other lesser\\nfigures of sundry character.\\n   Matthew lists 41 ancestors, starting back at the time of\\nAbraham, ancient father of Israel, and other early patriarchs,\\nIsaac and Jacob.\\n   Luke lists 77 progenitors in reverse order, starting with Joseph\\nand enumerating others going back to the first man, Adam, and\\nfinally to his creator, God.\\n   Other figures out of dim antiquity also are included, such as\\nNoah, and that legend of longevity, Methuselah, who lived 969\\nyears, all designated ancestors of Jesus.\\n   In the mostly male lists, four women are named, and they're a\\nmixed group _ a soldier's beautiful wife, Bathsheba, seduced by\\nKing David; the harlot of Jericho, Rahab; the sexually maneuvering\\nCananite, Tamar; and the loyal Mohabite, Ruth.\\n   Tamar was the daugher-in-law of Judah, son of the patriarch\\nJacob. Her husband died and after prolonged widowhood, she\\ndisguised herself as a prostitute and enticed her father-in-law to\\nlie with her. She bore twins, one named Perez, also among Jesus'\\nforbears.\\n   Rahab was a harlot who sheltered two scouts sent by the\\nIsraelite warrior-leader Joshua to spy out Jericho before taking\\nit. She hid them from searchers in flax stalks on her rooftop.\\n   She later helped the pair escape, lowering them on a rope from a\\nwindow in her house, which was built into the city wall. By\\nagreement with the two, her clan was spared when Jericho was\\ndestroyed, her house marked by a scarlet cord hung from a window.\\n   The devoted woman of Moab, Ruth, widowed by her Hebrew husband,\\ninsisted on returning with her mother-in-law, Naomi, to Israel,\\nwith these memorable words: ``For where you go I will go ... your\\npeople will be my people, and your God my God.''\\n   On Naomi's advice, Ruth worked in the harvest, sleeping at the\\nfeet of the owner, Boaz, thus winning him as her husband. They were\\nparents of Obed, father of Jesse, who fathered King David.\\n   His philandering with Bathsheba, the gorgeous wife of an absent\\nmilitary officer, Uriah, produced sons Nathan and future King\\nSolomon, alternatively listed in Jesus' line of descent.\\n   Other men on the lists also displayed foibles, such as Jacob's\\ndeceiving his father to gain an inheritance, and even Abraham\\nfearfully palming off his lovely wife, Sarah, as his ``sister'' to\\nplacate the ruling pharaoh while temporarily in Egypt.\\n   Nevertheless, those honored patriarchs also displayed courage,\\ninitiative and devotion in their covenant with God to lead a people\\nthat would be a promised ``light to the nations.''\\n   The great Israelite military commander, Joshua, successor to\\nMoses, also is listed, along with a long succession of kings,\\ndecent and debauched, in addition to charming, psalm-singing David\\nand wise Solomon, credited with the Book of Proverbs and builder of\\nJerusalem's first Temple.\\n   Other kings include Rehoboam, whose oppressions, idolatrous\\nrites and immoralities stirred a revolt that divided the kingdom;\\nUzziah, stricken with leprosy in a prosperous reign, and Hezekiah\\nwho led reforms under guidance of the prophet Micah.\\n   Also listed is Manasseh, described as ``the most wicked king of\\nJudah,'' whose religious deviations included Baalism, exaltation of\\nthe idol Astarte, wizardry and Molech worship that involved forcing\\nchildren through fire.\\n   Tradition has it that Manasseh had the great prophet Isaiah\\nsawed asunder.\\n   One king listed, Josiah, took the throne at age 8 when his\\nfather, Amon, was murdered. But Josiah had a long, just reign,\\nousting corrupt priests and recovering the lost ``Book of law'' in\\nrepairing the Temple.\\n   Of many others named, some are clouded, uncertain figures, while\\nothers are notable in Jewish annals, such as Judah, founder of a\\nmain Israelite tribe, and the prophet Nathan who rebuked David for\\nhis illicit affair.\\n   The mixed lot of people, with their sundry faults and strengths,\\nwere all ``part of the promise fulfilled'' by the Christ child,\\nWillimon writes. They, ``for all their weaknesses, ... were\\ninstruments of the promise.''\\n   On the other hand, Jesus' descent also is traced directly to the\\nGodhead, adding an unfathomable engima to his humanity.\\n   ``In the beginning was the Word, and the Word was with God, and\\nthe Word was God,'' says the distinctively interpretative gospel of\\nJohn. ``And the Word became flesh and dwelt among us, full of grace\\nand truth.''\\n   He is ``fully God and fully man,'' classic Christian doctrine\\nsays. His conception by the virgin Mary is ascribed by the gospels\\nto divine intervention. St. Paul calls him the ``image of the\\ninvisible God.''\\n   Jesus himself, though he was generally elusive about it and\\nthough he identified closely with common folk, sometimes laid it\\nout plainly, as related by John's gospel:\\n   ``Truly, truly, I say to you, before Abraham was, I am,'' he\\nsaid. ``I and the Father are one ... the Father is in me and I am\\nin the Father.''\"]\n",
      "AP891220-0004\n",
      "[\"A soldier who led a failed\\ncoup attempt in one of South Africa's nominally independent black\\nhomelands has been sentenced to 18 years in prison for high treason.\\n   Warrant Officer Timothy Phiri was the last of 142 soldiers to be\\nsentenced for their roles in a February 1988 coup attempt in\\nBophuthatswana, one of four tribal homelands designated independent\\nby South Africa but not recognized abroad.\\n   The other defendants, convicted last month of treason or\\nterrorism, were sentenced Monday and Tuesday to prison terms\\nranging from 2 to 10 years.\\n   The coup was crushed by South African commandos, who freed\\nhomeland president Lucas Mangope from captivity at a soccer stadium\\nand arrested the rebels, all members of the homeland army.\\n   Bophuthatswana Supreme Court Justice M.W. Friedman said Phiri\\nwas ``a danger to society'' who had allowed Mangope to be\\nill-treated during the coup attempt and had ordered his rebels to\\nfire on the homes of homeland Cabinet ministers.\"]\n",
      "AP891220-0005\n",
      "[\"Robert Robinson, the alderman and lawyer\\nassassinated by a mail bomb, is being remembered as an easygoing,\\ngenerous man whose community affairs work made people ``believe\\nthey can make a difference.''\\n   Robinson, whom even new acquaintances called ``Robbie,'' died\\nMonday when a package containing an explosive and nails blew up at\\nhis law office.\\n   Robinson and Mayor John Rousakis had planned to attend a meeting\\nthat evening at the lawyer's church to discuss how blacks could\\nfight drugs in their neighborhoods. Robinson was black.\\n   The 42-year-old attorney was the second victim in a rash of mail\\nbombs in the South. A package bomb killed 11th U.S. Circuit Court\\nof Appeals Judge Robert S. Vance on Saturday. A mail bomb found at\\nthe federal courthouse in Atlanta was disarmed Monday. A parcel\\nbomb mailed to the NAACP's Jacksonville, Fla., office was disarmed\\nTuesday.\\n   On Tuesday, Savannah's legislative offices were closed in\\nmourning.\\n   Rousakis said Robinson ``was a warm, kind person, always with a\\nsmile on his face and a hand out to help.''\\n   ``He meant the future to Savannah, he gave to the community in\\nsuch a selfless way that he made people just believe they can make\\na difference,'' said Alderman Willie Brown.\\n   At a news conference, city leaders said they believed Robinson's\\ninvolvement with the National Association for the Advancement of\\nColored People, which he represented in a school desegregation\\ncase, was related to his death.\\n   Rousakis said Robinson was an active member of his church and\\nwas worked to help the homeless.\\n   Friends said Robinson's political activity was not the kind that\\nwould be expected to generate murderous enemies.\\n   ``I've known him a very long time, and he is not the kind of guy\\nI would think would be a target of such an action,'' said Superior\\nCourt Judge Eugene Gadsden. ``He was easygoing and went about his\\nbusiness.''\\n   Longtime friend Al Rivers said Robinson took part in civil\\nrights protests until he went off to college. ``Then he came back,\\ngot into politics and his time began to get tight.''\\n   Rousakis said Robinson had been a city councilman for eight\\nyears, but had served on other government and community boards his\\nentire adult life.\\n   As city transit authority chairman 10 years ago, Robinson led a\\nmove to provide transportation for the poor and the elderly.\\n   Robinson, one of the first black students to attend Savannah\\nHigh School in the 1960s, represented the NAACP in the long-running\\nSavannah schools desegregation case.\\n   The 11th U.S. Circuit Court of Appeals ruled in October that the\\ncity's magnet-school plan was appropriate for desegregation.\\n   Neither city nor school officials knew whether the NAACP was\\nplanning to appeal, and NACCP head Curtis Cooper could not be\\nreached for comment.\\n   Robinson is survived by his wife, Ann, and three daughters.\\nAlderman Floyd Adams Jr. said city officials would start a fund for\\nRobinson's family.\\n   Rousakis said a local business, All-American Builders, had\\nalready donated a $1,000 reward for information in the case.\\n   ``We are sure the Savannah Police Department will not quit until\\nthey come to some conclusion,'' Alderman Brown said. ``Meanwhile,\\nthe fund gives people a way to prove their love for Robbie.''\"]\n",
      "AP891220-0006\n",
      "[\"In contrast to the largely peaceful\\nchanges in other Eastern European countries, President Nicolae\\nCeausescu of Romania appears determined to use force to defend his\\nhard-line regime.\\n   Ceausescu, 71, the most senior Soviet bloc leader after 24 years\\nin power, has said reform-minded Communists elsewhere have betrayed\\ntheir people by refusing to defend Marxist orthodoxy.\\n   Ceausescu's refusal to embrace change has isolated him from all\\nhis Warsaw Pact allies. Some analysts say he is seeking stronger\\nties with rigid Communist systems similarly opposed to political\\nreform, particularly North Korea, Cuba and China.\\n   His leadership is based on a family dynasty with some 40\\nrelatives reportedly placed in key state and party jobs. His wife\\nElena, virtual second-in-command in Romania, is a Politburo member\\nand first vice premier.\\n   One of Ceausescu's brothers, Ilie, is an army general and deputy\\ndefense minister. Another brother, Nicolae Andruta, is a police\\ngeneral and deputy interior minister and another brother, Ion, is\\nin charge of economic planning.\\n   His youngest son, Nicu, 39, is a Politburo candidate member and\\nparty chief of Sibiu region in southern Transylvania.\\n   ``Romania is a showcase for any repressive totalitarian state.\\nThe harsher the repression, the more violent the public upheaval it\\nbrings about and the greater the desire to take revenge on\\nleaders,'' Ion Ratiu, chairman of the London-based World Union of\\nFree Romanians, said Monday.\\n   Since he became party leader in 1965, Ceausescu has exercised\\nabsolute power and carried out a foreign policy independent of the\\nSoviet Union.\\n   While that maverick stance won him praise and credits from the\\nWest, Ceausescu kept Romanians under iron-fisted control. Now, with\\nreform ascendent in the rest of the Warsaw Pact, the harsh Romanian\\nstand draws condemnation from abroad.\\n   About 30,000 coal miners went on strike in the Jiu Valley in\\n1977 and 10,000 workers demonstrated in the city of Brasov in 1987\\ndemanding freedom, better living conditions and Ceausescu's ouster.\\nPolice arrested hundreds of demonstrators and their leaders\\ndisappeared.\\n   An extensive secret police force keeps strict control on\\nreligious and political expression, and dissent is quickly crushed,\\nmaking chances for peaceful change in Romania seem remote.\\n   But poverty and despair engendered by economic problems and\\npolitical repressions could cause people to risk direct\\nconfrontations with armed forces, as in Timisoara now.\\n   Unlike recent protests in Prague and East Germany, witnessed and\\nreported by the Western media, demonstrations in Romania have taken\\nplace well outside the public eye.\\n   The Western reporters permitted into the country in recent years\\nhave been kept under close watch, and police have detained\\njournalists and even diplomats attempting to visit the country's\\nfew dissidents.\\n   Romania has closed its borders and barred most foreigners from\\nentering the country in an apparent attempt to prevent the spread\\nof news about the Timisoara protest, the largest demonstration\\nagainst Ceausescu's policies since the Brasov riots.\\n   Romania has little tradition of democratic rule. After five\\ncenturies under the Ottoman Turks, Romania won independence in\\n1877, becoming first a monarchy, then, during the Second World War,\\nan ally of the Nazis.\\n   The last monarch, King Michael, was forced to abdicate in\\nDecember 1947 under threat of civil war and pressure from the\\nKremlin and its Romanian Communist allies.\"]\n"
     ]
    }
   ],
   "source": [
    "i = 0\n",
    "for keys, values in text_map.items():\n",
    "    print(keys)\n",
    "    print(values)\n",
    "    if(i == 5):\n",
    "        break\n",
    "    i += 1    "
   ]
  },
  {
   "cell_type": "code",
   "execution_count": 6,
   "id": "e45f7a74",
   "metadata": {},
   "outputs": [
    {
     "data": {
      "text/plain": [
       "84678"
      ]
     },
     "execution_count": 6,
     "metadata": {},
     "output_type": "execute_result"
    }
   ],
   "source": [
    "len(text_map)"
   ]
  },
  {
   "cell_type": "code",
   "execution_count": 7,
   "id": "5836e921",
   "metadata": {},
   "outputs": [],
   "source": [
    "def preprocess_text(text_map):\n",
    "    # Initialize Porter Stemmer\n",
    "    stemmer = PorterStemmer()\n",
    "    \n",
    "    with open('stoplist.txt', 'r') as file:\n",
    "        stopwords = set(file.read().strip().splitlines())\n",
    "    \n",
    "\n",
    "    for key, texts in tqdm(text_map.items(), desc = \"Processing\"):\n",
    "        preprocessed_texts = []\n",
    "        for text in texts:\n",
    "\n",
    "            tokens = word_tokenize(text)\n",
    "            for word in tokens:\n",
    "                if '-' in word:\n",
    "                    hyphenated_words = word.split('-')\n",
    "                    preprocessed_texts.extend(hyphenated_words)\n",
    "                else:\n",
    "                    preprocessed_texts.append(word)\n",
    "                    \n",
    "            preprocessed_texts = [stemmer.stem(word) for word in preprocessed_texts]    \n",
    "            preprocessed_texts = [word for word in preprocessed_texts if word.lower() not in stopwords and word.strip(string.punctuation)]\n",
    "   \n",
    "        text_map[key] = ' '.join(preprocessed_texts)\n",
    "    \n",
    "    return text_map"
   ]
  },
  {
   "cell_type": "code",
   "execution_count": null,
   "id": "80d43872",
   "metadata": {},
   "outputs": [],
   "source": [
    "preprocessed_text_map = preprocess_text(text_map)\n",
    "print(\"Preprocessing Done\")"
   ]
  },
  {
   "cell_type": "code",
   "execution_count": null,
   "id": "325d1f58",
   "metadata": {},
   "outputs": [],
   "source": [
    "#!pip install elasticsearch7"
   ]
  },
  {
   "cell_type": "code",
   "execution_count": null,
   "id": "3fb3d213",
   "metadata": {},
   "outputs": [],
   "source": [
    "from elasticsearch7 import Elasticsearch\n",
    "es = Elasticsearch(\"http://localhost:9200\")\n",
    "print(es.ping())"
   ]
  },
  {
   "cell_type": "code",
   "execution_count": null,
   "id": "5b9e3d86",
   "metadata": {},
   "outputs": [],
   "source": [
    "index_name = \"ap89_data5\"\n",
    "\n",
    "configurations = {\n",
    "    \"settings\" : {\n",
    "        \"number_of_shards\": 1,\n",
    "        \"number_of_replicas\": 1,\n",
    "        \"analysis\": {\n",
    "            \"filter\": {\n",
    "                \"english_stop\": {\n",
    "                    \"type\": \"stop\",\n",
    "                    \"stopwords_path\": \"my_stoplist.txt\"\n",
    "                }\n",
    "            },\n",
    "            \"analyzer\": {\n",
    "                \"stopped\": {\n",
    "                    \"type\": \"custom\",\n",
    "                    \"tokenizer\": \"standard\",\n",
    "                    \"filter\": [\n",
    "                        \"lowercase\",\n",
    "                        \"english_stop\"\n",
    "                    ]\n",
    "                }\n",
    "            }\n",
    "      }\n",
    "    },\n",
    "    \"mappings\": {\n",
    "        \"properties\": {\n",
    "            \"content\": {\n",
    "                \"type\": \"text\",\n",
    "                \"fielddata\": True,\n",
    "                \"analyzer\": \"stopped\",\n",
    "                \"index_options\": \"positions\"\n",
    "            }\n",
    "        }\n",
    "    }\n",
    "}"
   ]
  },
  {
   "cell_type": "code",
   "execution_count": null,
   "id": "47752c73",
   "metadata": {},
   "outputs": [],
   "source": [
    "es.indices.create(index = index_name, body = configurations)"
   ]
  },
  {
   "cell_type": "code",
   "execution_count": null,
   "id": "a1b7242e",
   "metadata": {},
   "outputs": [],
   "source": [
    "def add_data(_id, text):\n",
    "    \n",
    "    es.index(\n",
    "        index = index_name,\n",
    "        document = {\n",
    "            'content': text,\n",
    "        }, id = _id)"
   ]
  },
  {
   "cell_type": "code",
   "execution_count": null,
   "id": "365574f7",
   "metadata": {},
   "outputs": [],
   "source": [
    "for key in tqdm(preprocessed_text_map, desc = \"Adding index\"):\n",
    "    add_data(key, preprocessed_text_map[key])\n",
    "    \n",
    "print(\"All documents are added to the index\")    "
   ]
  },
  {
   "cell_type": "code",
   "execution_count": null,
   "id": "b3239638",
   "metadata": {},
   "outputs": [],
   "source": [
    "      \n"
   ]
  }
 ],
 "metadata": {
  "kernelspec": {
   "display_name": "Python 3 (ipykernel)",
   "language": "python",
   "name": "python3"
  },
  "language_info": {
   "codemirror_mode": {
    "name": "ipython",
    "version": 3
   },
   "file_extension": ".py",
   "mimetype": "text/x-python",
   "name": "python",
   "nbconvert_exporter": "python",
   "pygments_lexer": "ipython3",
   "version": "3.10.9"
  }
 },
 "nbformat": 4,
 "nbformat_minor": 5
}
