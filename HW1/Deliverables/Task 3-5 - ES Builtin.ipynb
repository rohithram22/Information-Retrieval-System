{
 "cells": [
  {
   "cell_type": "code",
   "execution_count": 26,
   "id": "6855e4b2",
   "metadata": {},
   "outputs": [],
   "source": [
    "import re\n",
    "import os\n",
    "from nltk.tokenize import word_tokenize\n",
    "from nltk.stem import PorterStemmer \n",
    "from tqdm import tqdm\n",
    "import string\n",
    "import math"
   ]
  },
  {
   "cell_type": "code",
   "execution_count": 2,
   "id": "2faf997e",
   "metadata": {},
   "outputs": [],
   "source": [
    "def read_queries_from_file(file_path):\n",
    "    queries = {}\n",
    "\n",
    "    with open(file_path, 'r') as file:\n",
    "        for line in file:\n",
    "            match = re.match(r'(\\d+)\\.\\s+(.*)', line)\n",
    "            if match:\n",
    "                \n",
    "                number = match.group(1)\n",
    "                query_text = match.group(2).strip()  \n",
    "                queries[number] = query_text\n",
    "\n",
    "    return queries\n"
   ]
  },
  {
   "cell_type": "code",
   "execution_count": 3,
   "id": "ffde1e37",
   "metadata": {},
   "outputs": [
    {
     "data": {
      "text/plain": [
       "{'85': 'Document will discuss allegations, or measures being taken against, corrupt public officials of any governmental jurisdiction worldwide.',\n",
       " '59': 'Document will report a type of weather event which has directly caused at least one fatality in some location.',\n",
       " '56': 'Document will include a prediction about the prime lending rate, or will report an actual prime rate move.',\n",
       " '71': 'Document will report incursions by land, air, or water into the border area of one country by military forces of a second country or a guerrilla group based in a second country.',\n",
       " '64': 'Document will report an event or result of politically motivated hostage-taking.',\n",
       " '62': \"Document will report a military coup d'etat, either attempted or successful, in any country.\",\n",
       " '93': 'Document must describe or identify supporters of the National Rifle Association (NRA), or its assets.',\n",
       " '99': 'Document will identify a development in the Iran-Contra Affair.',\n",
       " '58': 'Document will predict or anticipate a rail strike or report an ongoing rail  strike.',\n",
       " '77': 'Document will report a poaching method used against a certain type of wildlife.',\n",
       " '54': 'Document will cite the signing of a contract or preliminary agreement, or the making of a tentative reservation, to launch a commercial satellite.',\n",
       " '87': 'Document will report on current criminal actions against officers of a failed U.S. financial institution.',\n",
       " '94': 'Document must identify a crime perpetrated with the aid of a computer.',\n",
       " '100': 'Document will identify efforts by the non-communist, industrialized states to regulate the transfer of high-tech goods or \"dual-use\" technologies to undesirable nations.',\n",
       " '89': 'Document must identify an existing or pending investment by an OPEC member state in any \"downstream\" operation.',\n",
       " '61': 'Document will discuss the role of Israel in the Iran-Contra Affair.',\n",
       " '95': 'Document must describe a computer application to crime solving.',\n",
       " '68': 'Document will report actual studies, or even unsubstantiated concerns about the safety to manufacturing employees and installation workers of fine-diameter fibers used in insulation and other products.',\n",
       " '57': 'Document will discuss how MCI has been doing since the Bell System breakup.',\n",
       " '97': 'Document must identify instances of fiber optics technology actually in use.',\n",
       " '98': 'Document must identify individuals or organizations which produce fiber optics equipment.',\n",
       " '60': 'Document will describe either one or both sides of the controversy over the use of standards of performance to determine salary levels and incentive pay as contrasted with determining pay solely on the basis of seniority or longevity on the job.',\n",
       " '80': 'Document will identify something about the platform of a 1988 presidential  candidate.',\n",
       " '63': 'Document will identify a machine translation system.',\n",
       " '91': 'Document will identify acquisition by the U.S. Army of specified advanced weapons systems.'}"
      ]
     },
     "execution_count": 3,
     "metadata": {},
     "output_type": "execute_result"
    }
   ],
   "source": [
    "# Extracting queries \n",
    "file_path = 'query_desc.51-100.short.txt'\n",
    "queries = read_queries_from_file(file_path)\n",
    "queries"
   ]
  },
  {
   "cell_type": "code",
   "execution_count": 4,
   "id": "2b48d771",
   "metadata": {},
   "outputs": [
    {
     "name": "stdout",
     "output_type": "stream",
     "text": [
      "True\n"
     ]
    }
   ],
   "source": [
    "from elasticsearch7 import Elasticsearch\n",
    "from elasticsearch7.client import IndicesClient\n",
    "import time\n",
    "\n",
    "index_name = \"ap89_data5\"\n",
    "es = Elasticsearch(\"http://localhost:9200\")\n",
    "ic = IndicesClient(es)\n",
    "print(es.ping())\n"
   ]
  },
  {
   "cell_type": "code",
   "execution_count": 5,
   "id": "30192f47",
   "metadata": {},
   "outputs": [],
   "source": [
    "def ES_search(query):\n",
    "    \n",
    "    res_es_search = es.search(index = index_name, query = {'match': {'content': query }} , size = 1000)\n",
    "    \n",
    "    return res_es_search\n",
    "    "
   ]
  },
  {
   "cell_type": "code",
   "execution_count": 12,
   "id": "fbba1e54",
   "metadata": {},
   "outputs": [],
   "source": [
    "#export result\n",
    "output_path = './'\n",
    "\n",
    "def output_txt(filename, string):\n",
    "    with open(output_path+filename+'.txt', 'a') as f:\n",
    "        f.write(string)"
   ]
  },
  {
   "cell_type": "code",
   "execution_count": 9,
   "id": "604ec581",
   "metadata": {},
   "outputs": [],
   "source": [
    "def preprocess_queries(query):\n",
    "    \n",
    "    # Initialize Porter Stemmer\n",
    "    stemmer = PorterStemmer()\n",
    "    \n",
    "    # Load stopwords from file\n",
    "    with open('stoplist.txt', 'r') as file:\n",
    "        stopwords = set(file.read().strip().splitlines())\n",
    "        \n",
    "   \n",
    "    preprocessed_words = []\n",
    "    query = query.replace('\\n', ' ').replace(\"'\", '').replace('\"\"','')\n",
    "    tokens = word_tokenize(query)\n",
    "    for word in tokens:\n",
    "        if '-' in word:\n",
    "            hyphen_words = word.split('-')\n",
    "            preprocessed_words.extend(hyphen_words)\n",
    "        else:\n",
    "            preprocessed_words.append(word)\n",
    "                    \n",
    "    preprocessed_words = [word for word in preprocessed_words if word.lower() not in stopwords and word.strip(string.punctuation)]\n",
    "    preprocessed_words = [stemmer.stem(word) for word in preprocessed_words] \n",
    "    preprocessed_words = list(set(preprocessed_words))\n",
    "    \n",
    "    \n",
    "    \n",
    "    return ' '.join(preprocessed_words)  "
   ]
  },
  {
   "cell_type": "code",
   "execution_count": 20,
   "id": "fa91d261",
   "metadata": {},
   "outputs": [],
   "source": [
    "def process_res(queries):\n",
    "    i = 0\n",
    "    for num, query in queries.items():\n",
    "        preprocessed_query = word_tokenize(preprocess_queries(query))\n",
    "        result = ES_search(query)\n",
    "        for hit in result['hits']['hits']:\n",
    "            docno = hit['_id']\n",
    "            rank = i + 1\n",
    "            score = hit['_score']\n",
    "            output_line = num + ' Q0 ' + str(docno) + ' ' + str(rank) + ' ' + str(score) + ' Exp' + \"\\n\"\n",
    "            output_txt('query_result_es_builtinfeedback',output_line)\n",
    "            i += 1\n"
   ]
  },
  {
   "cell_type": "code",
   "execution_count": 13,
   "id": "0b372242",
   "metadata": {},
   "outputs": [
    {
     "name": "stdout",
     "output_type": "stream",
     "text": [
      "Completed, total run time in min 0.0\n"
     ]
    }
   ],
   "source": [
    "start = time.time()\n",
    "process_res(queries)\n",
    "end = time.time()\n",
    "print('Completed, total run time in min', (end-start)//60)"
   ]
  },
  {
   "cell_type": "markdown",
   "id": "b9eb4568",
   "metadata": {},
   "source": [
    "## Task 4"
   ]
  },
  {
   "cell_type": "markdown",
   "id": "e04a51df",
   "metadata": {},
   "source": [
    "**Average Precision:** 0.1925"
   ]
  },
  {
   "cell_type": "code",
   "execution_count": 14,
   "id": "c7d33fe2",
   "metadata": {},
   "outputs": [
    {
     "name": "stdout",
     "output_type": "stream",
     "text": [
      "Error due to 23\r\n",
      "\r\n",
      "Queryid (Num):       23\r\n",
      "Total number of documents over all queries\r\n",
      "    Retrieved:    20079\r\n",
      "    Relevant:      1826\r\n",
      "    Rel_ret:       1060\r\n",
      "Interpolated Recall - Precision Averages:\r\n",
      "    at 0.00       0.4763\r\n",
      "    at 0.10       0.3897\r\n",
      "    at 0.20       0.3144\r\n",
      "    at 0.30       0.2627\r\n",
      "    at 0.40       0.2192\r\n",
      "    at 0.50       0.1845\r\n",
      "    at 0.60       0.1400\r\n",
      "    at 0.70       0.1162\r\n",
      "    at 0.80       0.0892\r\n",
      "    at 0.90       0.0609\r\n",
      "    at 1.00       0.0226\r\n",
      "Average precision (non-interpolated) for all rel docs(averaged over queries)\r\n",
      "                  0.1925\r\n",
      "Precision:\r\n",
      "  At    5 docs:   0.3217\r\n",
      "  At   10 docs:   0.3087\r\n",
      "  At   15 docs:   0.2957\r\n",
      "  At   20 docs:   0.2848\r\n",
      "  At   30 docs:   0.2725\r\n",
      "  At  100 docs:   0.1887\r\n",
      "  At  200 docs:   0.1341\r\n",
      "  At  500 docs:   0.0772\r\n",
      "  At 1000 docs:   0.0461\r\n",
      "R-Precision (precision after R (= num_rel for a query) docs retrieved):\r\n",
      "    Exact:        0.2303\r\n"
     ]
    }
   ],
   "source": [
    "!perl trec_eval.pl qrels.adhoc.51-100.AP89.txt query_result_es_builtin2.txt "
   ]
  },
  {
   "cell_type": "markdown",
   "id": "3dc6dbfa",
   "metadata": {},
   "source": [
    "## Task 5"
   ]
  },
  {
   "cell_type": "markdown",
   "id": "2e5a8c39",
   "metadata": {},
   "source": [
    "### Pseudo-relevance Feedback"
   ]
  },
  {
   "cell_type": "code",
   "execution_count": 15,
   "id": "6a35723d",
   "metadata": {},
   "outputs": [],
   "source": [
    "additional_words = {\n",
    "    '85': ['prison', 'polic', 'prosector', 'parti'],\n",
    "    '59': ['tornado', 'thunderstorm', 'offic'],\n",
    "    '56': ['bank', 'lower'],\n",
    "    '71': ['rubber', 'lebanon', 'govern'],\n",
    "    '64': ['north', 'novemb', 'speaker'],\n",
    "    '54': ['spacecraft', 'titan', 'backlog'],\n",
    "    '95': ['student', 'bank', 'chip'],\n",
    "    '60': ['risk', 'govern', 'tax'],\n",
    "    '80': ['campaign', 'parti'],\n",
    "    '91': ['pentagon', 'program', 'pakistan', 'spend']\n",
    "}"
   ]
  },
  {
   "cell_type": "code",
   "execution_count": 16,
   "id": "3d558ad0",
   "metadata": {},
   "outputs": [],
   "source": [
    "queries1 = queries.copy()"
   ]
  },
  {
   "cell_type": "code",
   "execution_count": 17,
   "id": "2ef550b6",
   "metadata": {},
   "outputs": [],
   "source": [
    "for querynum, words in additional_words.items():\n",
    "    addW= \" \".join(words)\n",
    "    queries1[querynum] = queries1[querynum] + \" \" + addW"
   ]
  },
  {
   "cell_type": "code",
   "execution_count": 18,
   "id": "43e8cfb0",
   "metadata": {},
   "outputs": [
    {
     "data": {
      "text/plain": [
       "{'85': 'Document will discuss allegations, or measures being taken against, corrupt public officials of any governmental jurisdiction worldwide. prison polic prosector parti',\n",
       " '59': 'Document will report a type of weather event which has directly caused at least one fatality in some location. tornado thunderstorm offic',\n",
       " '56': 'Document will include a prediction about the prime lending rate, or will report an actual prime rate move. bank lower',\n",
       " '71': 'Document will report incursions by land, air, or water into the border area of one country by military forces of a second country or a guerrilla group based in a second country. rubber lebanon govern',\n",
       " '64': 'Document will report an event or result of politically motivated hostage-taking. north novemb speaker',\n",
       " '62': \"Document will report a military coup d'etat, either attempted or successful, in any country.\",\n",
       " '93': 'Document must describe or identify supporters of the National Rifle Association (NRA), or its assets.',\n",
       " '99': 'Document will identify a development in the Iran-Contra Affair.',\n",
       " '58': 'Document will predict or anticipate a rail strike or report an ongoing rail  strike.',\n",
       " '77': 'Document will report a poaching method used against a certain type of wildlife.',\n",
       " '54': 'Document will cite the signing of a contract or preliminary agreement, or the making of a tentative reservation, to launch a commercial satellite. spacecraft titan backlog',\n",
       " '87': 'Document will report on current criminal actions against officers of a failed U.S. financial institution.',\n",
       " '94': 'Document must identify a crime perpetrated with the aid of a computer.',\n",
       " '100': 'Document will identify efforts by the non-communist, industrialized states to regulate the transfer of high-tech goods or \"dual-use\" technologies to undesirable nations.',\n",
       " '89': 'Document must identify an existing or pending investment by an OPEC member state in any \"downstream\" operation.',\n",
       " '61': 'Document will discuss the role of Israel in the Iran-Contra Affair.',\n",
       " '95': 'Document must describe a computer application to crime solving. student bank chip',\n",
       " '68': 'Document will report actual studies, or even unsubstantiated concerns about the safety to manufacturing employees and installation workers of fine-diameter fibers used in insulation and other products.',\n",
       " '57': 'Document will discuss how MCI has been doing since the Bell System breakup.',\n",
       " '97': 'Document must identify instances of fiber optics technology actually in use.',\n",
       " '98': 'Document must identify individuals or organizations which produce fiber optics equipment.',\n",
       " '60': 'Document will describe either one or both sides of the controversy over the use of standards of performance to determine salary levels and incentive pay as contrasted with determining pay solely on the basis of seniority or longevity on the job. risk govern tax',\n",
       " '80': 'Document will identify something about the platform of a 1988 presidential  candidate. campaign parti',\n",
       " '63': 'Document will identify a machine translation system.',\n",
       " '91': 'Document will identify acquisition by the U.S. Army of specified advanced weapons systems. pentagon program pakistan spend'}"
      ]
     },
     "execution_count": 18,
     "metadata": {},
     "output_type": "execute_result"
    }
   ],
   "source": [
    "queries1"
   ]
  },
  {
   "cell_type": "code",
   "execution_count": 21,
   "id": "4a113cad",
   "metadata": {},
   "outputs": [],
   "source": [
    "process_res(queries1)"
   ]
  },
  {
   "cell_type": "code",
   "execution_count": 22,
   "id": "97785d1f",
   "metadata": {},
   "outputs": [
    {
     "name": "stdout",
     "output_type": "stream",
     "text": [
      "Error due to 25\r\n",
      "\r\n",
      "Queryid (Num):       25\r\n",
      "Total number of documents over all queries\r\n",
      "    Retrieved:    22079\r\n",
      "    Relevant:      1832\r\n",
      "    Rel_ret:       1059\r\n",
      "Interpolated Recall - Precision Averages:\r\n",
      "    at 0.00       0.4843\r\n",
      "    at 0.10       0.3790\r\n",
      "    at 0.20       0.2949\r\n",
      "    at 0.30       0.2536\r\n",
      "    at 0.40       0.2229\r\n",
      "    at 0.50       0.1826\r\n",
      "    at 0.60       0.1388\r\n",
      "    at 0.70       0.1159\r\n",
      "    at 0.80       0.0898\r\n",
      "    at 0.90       0.0641\r\n",
      "    at 1.00       0.0211\r\n",
      "Average precision (non-interpolated) for all rel docs(averaged over queries)\r\n",
      "                  0.1883\r\n",
      "Precision:\r\n",
      "  At    5 docs:   0.2880\r\n",
      "  At   10 docs:   0.2840\r\n",
      "  At   15 docs:   0.2667\r\n",
      "  At   20 docs:   0.2680\r\n",
      "  At   30 docs:   0.2693\r\n",
      "  At  100 docs:   0.1908\r\n",
      "  At  200 docs:   0.1302\r\n",
      "  At  500 docs:   0.0709\r\n",
      "  At 1000 docs:   0.0424\r\n",
      "R-Precision (precision after R (= num_rel for a query) docs retrieved):\r\n",
      "    Exact:        0.2265\r\n"
     ]
    }
   ],
   "source": [
    "!perl trec_eval.pl qrels.adhoc.51-100.AP89.txt query_result_es_builtinFeedback.txt "
   ]
  },
  {
   "cell_type": "markdown",
   "id": "3ecda1a5",
   "metadata": {},
   "source": [
    "**New Average Precision:** 0.1883"
   ]
  }
 ],
 "metadata": {
  "kernelspec": {
   "display_name": "Python 3 (ipykernel)",
   "language": "python",
   "name": "python3"
  },
  "language_info": {
   "codemirror_mode": {
    "name": "ipython",
    "version": 3
   },
   "file_extension": ".py",
   "mimetype": "text/x-python",
   "name": "python",
   "nbconvert_exporter": "python",
   "pygments_lexer": "ipython3",
   "version": "3.10.9"
  }
 },
 "nbformat": 4,
 "nbformat_minor": 5
}
